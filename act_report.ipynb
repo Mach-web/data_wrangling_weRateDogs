{
 "cells": [
  {
   "cell_type": "code",
   "execution_count": 1,
   "id": "b6b0e399",
   "metadata": {},
   "outputs": [],
   "source": [
    "import requests\n",
    "import pandas as pd\n",
    "import numpy as np\n",
    "import tweepy\n",
    "import json\n",
    "import os\n",
    "import glob\n",
    "import seaborn as sns\n",
    "import matplotlib.pyplot as plt\n",
    "%matplotlib inline"
   ]
  },
  {
   "cell_type": "markdown",
   "id": "01e19875",
   "metadata": {},
   "source": [
    "### Data Insight and Visualization\n",
    "\n",
    "#### Data Insight"
   ]
  },
  {
   "cell_type": "code",
   "execution_count": 7,
   "id": "40bb23ff",
   "metadata": {},
   "outputs": [],
   "source": [
    "weratedogs_masterdf = pd.read_csv('twitter_archive_master.csv')"
   ]
  },
  {
   "cell_type": "code",
   "execution_count": 9,
   "id": "6106c448",
   "metadata": {},
   "outputs": [
    {
     "data": {
      "text/plain": [
       "count      1962.000000\n",
       "mean       7562.203874\n",
       "std       11391.111653\n",
       "min           0.000000\n",
       "25%        1428.250000\n",
       "50%        3339.500000\n",
       "75%        9411.000000\n",
       "max      144235.000000\n",
       "Name: favorite_count, dtype: float64"
      ]
     },
     "execution_count": 9,
     "metadata": {},
     "output_type": "execute_result"
    }
   ],
   "source": [
    "weratedogs_masterdf['favorite_count'].describe()"
   ]
  },
  {
   "cell_type": "code",
   "execution_count": 10,
   "id": "2b05074a",
   "metadata": {},
   "outputs": [
    {
     "data": {
      "text/plain": [
       "count     1962.000000\n",
       "mean      2400.277778\n",
       "std       4186.928126\n",
       "min         11.000000\n",
       "25%        512.000000\n",
       "50%       1136.000000\n",
       "75%       2754.750000\n",
       "max      70326.000000\n",
       "Name: retweets_count, dtype: float64"
      ]
     },
     "execution_count": 10,
     "metadata": {},
     "output_type": "execute_result"
    }
   ],
   "source": [
    "weratedogs_masterdf['retweets_count'].describe()"
   ]
  },
  {
   "cell_type": "code",
   "execution_count": 11,
   "id": "a4267eae",
   "metadata": {},
   "outputs": [
    {
     "data": {
      "text/plain": [
       "True"
      ]
     },
     "execution_count": 11,
     "metadata": {},
     "output_type": "execute_result"
    }
   ],
   "source": [
    "weratedogs_masterdf['favorite_count'].mean() > weratedogs_masterdf['retweets_count'].mean()"
   ]
  },
  {
   "cell_type": "markdown",
   "id": "369e2251",
   "metadata": {},
   "source": [
    "#### Conclusion\n",
    "\n",
    "Users were more likely to 'like' a tweet compared to giving it a 'retweet'."
   ]
  },
  {
   "cell_type": "code",
   "execution_count": 12,
   "id": "496a048b",
   "metadata": {},
   "outputs": [
    {
     "data": {
      "text/plain": [
       "count    1.962000e+03\n",
       "mean     5.920290e+09\n",
       "std      2.704383e+09\n",
       "min      4.433340e+08\n",
       "25%      3.634778e+09\n",
       "50%      5.869370e+09\n",
       "75%      8.409685e+09\n",
       "max      1.000000e+10\n",
       "Name: p1_conf, dtype: float64"
      ]
     },
     "execution_count": 12,
     "metadata": {},
     "output_type": "execute_result"
    }
   ],
   "source": [
    "weratedogs_masterdf['p1_conf'].describe()"
   ]
  },
  {
   "cell_type": "code",
   "execution_count": 13,
   "id": "5fcb535a",
   "metadata": {},
   "outputs": [
    {
     "data": {
      "text/plain": [
       "count    1.962000e+03\n",
       "mean     1.353249e+09\n",
       "std      1.004997e+09\n",
       "min      1.011300e+02\n",
       "25%      5.453780e+08\n",
       "50%      1.192560e+09\n",
       "75%      1.964605e+09\n",
       "max      4.880140e+09\n",
       "Name: p2_conf, dtype: float64"
      ]
     },
     "execution_count": 13,
     "metadata": {},
     "output_type": "execute_result"
    }
   ],
   "source": [
    "weratedogs_masterdf['p2_conf'].describe()"
   ]
  },
  {
   "cell_type": "code",
   "execution_count": 14,
   "id": "23c6d6cc",
   "metadata": {},
   "outputs": [
    {
     "data": {
      "text/plain": [
       "count    1.962000e+03\n",
       "mean     6.062769e+08\n",
       "std      5.083169e+08\n",
       "min      1.740170e+00\n",
       "25%      1.660007e+08\n",
       "50%      4.990720e+08\n",
       "75%      9.241082e+08\n",
       "max      2.734190e+09\n",
       "Name: p3_conf, dtype: float64"
      ]
     },
     "execution_count": 14,
     "metadata": {},
     "output_type": "execute_result"
    }
   ],
   "source": [
    "weratedogs_masterdf['p3_conf'].describe()"
   ]
  },
  {
   "cell_type": "markdown",
   "id": "2a634ddf",
   "metadata": {},
   "source": [
    "#### Conclusion\n",
    "\n",
    "The system had most confidence in predicting the last image and the least confidence in predicting the second image."
   ]
  },
  {
   "cell_type": "code",
   "execution_count": 15,
   "id": "c1cdf9c1",
   "metadata": {},
   "outputs": [
    {
     "data": {
      "text/plain": [
       "1776"
      ]
     },
     "execution_count": 15,
     "metadata": {},
     "output_type": "execute_result"
    }
   ],
   "source": [
    "weratedogs_masterdf['rating_numerator'].max()"
   ]
  },
  {
   "cell_type": "markdown",
   "id": "e84b565a",
   "metadata": {},
   "source": [
    "#### Conclusion\n",
    "\n",
    "The highest rating given to a dog was 1776."
   ]
  },
  {
   "cell_type": "markdown",
   "id": "64a88729",
   "metadata": {},
   "source": [
    "### Data Visualization "
   ]
  },
  {
   "cell_type": "code",
   "execution_count": 16,
   "id": "61a6db74",
   "metadata": {},
   "outputs": [
    {
     "data": {
      "text/plain": [
       "Text(0, 0.5, 'Rating_numerator')"
      ]
     },
     "execution_count": 16,
     "metadata": {},
     "output_type": "execute_result"
    },
    {
     "data": {
      "image/png": "[encoded data removed]",
      "text/plain": [
       "<Figure size 576x576 with 1 Axes>"
      ]
     },
     "metadata": {
      "needs_background": "light"
     },
     "output_type": "display_data"
    }
   ],
   "source": [
    "weratedogs_masterdf.plot(kind='scatter',y='rating_numerator',x='favorite_count',figsize=(8,8))\n",
    "plt.title('A scatter plot of favorite_count compared to rating_numerator',fontsize=18,color='purple')\n",
    "plt.xlabel('Favorite_count',fontsize=20,color='purple')\n",
    "plt.ylabel('Rating_numerator',fontsize=20,color='purple')"
   ]
  },
  {
   "cell_type": "markdown",
   "id": "658c9913",
   "metadata": {},
   "source": [
    "#### Conclusion\n",
    "\n",
    "Tweets which were rated highly did not necessarily have more 'likes'."
   ]
  },
  {
   "cell_type": "code",
   "execution_count": null,
   "id": "ffb6528c",
   "metadata": {},
   "outputs": [],
   "source": []
  }
 ],
 "metadata": {
  "kernelspec": {
   "display_name": "Python 3 (ipykernel)",
   "language": "python",
   "name": "python3"
  },
  "language_info": {
   "codemirror_mode": {
    "name": "ipython",
    "version": 3
   },
   "file_extension": ".py",
   "mimetype": "text/x-python",
   "name": "python",
   "nbconvert_exporter": "python",
   "pygments_lexer": "ipython3",
   "version": "3.9.12"
  }
 },
 "nbformat": 4,
 "nbformat_minor": 5
}
